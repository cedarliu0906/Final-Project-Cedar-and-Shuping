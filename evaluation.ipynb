{
 "cells": [
  {
   "cell_type": "code",
   "execution_count": 1,
   "metadata": {
    "colab": {
     "base_uri": "https://localhost:8080/"
    },
    "executionInfo": {
     "elapsed": 19195,
     "status": "ok",
     "timestamp": 1732934372825,
     "user": {
      "displayName": "Shuping Wu",
      "userId": "16798090256759656802"
     },
     "user_tz": 360
    },
    "id": "vvWzGk5277Sd",
    "outputId": "91d184e2-b780-46e3-82f2-04c01a5f988c"
   },
   "outputs": [
    {
     "name": "stdout",
     "output_type": "stream",
     "text": [
      "Mounted at /content/drive\n"
     ]
    }
   ],
   "source": [
    "from google.colab import drive\n",
    "drive.mount('/content/drive')"
   ]
  },
  {
   "cell_type": "code",
   "execution_count": 6,
   "metadata": {
    "executionInfo": {
     "elapsed": 1093,
     "status": "ok",
     "timestamp": 1732934723786,
     "user": {
      "displayName": "Shuping Wu",
      "userId": "16798090256759656802"
     },
     "user_tz": 360
    },
    "id": "U-AU4TsI8UE4"
   },
   "outputs": [],
   "source": [
    "import pandas as pd\n",
    "import torch\n",
    "from torch.utils.data import DataLoader, Dataset\n",
    "import torch.nn as nn\n",
    "import torch.nn.functional as F\n",
    "import os\n",
    "import jieba"
   ]
  },
  {
   "cell_type": "code",
   "execution_count": 2,
   "metadata": {
    "executionInfo": {
     "elapsed": 44225,
     "status": "ok",
     "timestamp": 1732934418787,
     "user": {
      "displayName": "Shuping Wu",
      "userId": "16798090256759656802"
     },
     "user_tz": 360
    },
    "id": "Khv6Oj7v5fdV"
   },
   "outputs": [],
   "source": [
    "from transformers import BertTokenizer, BertForSequenceClassification\n",
    "\n",
    "# Load the fine-tuned model and tokenizer\n",
    "model = BertForSequenceClassification.from_pretrained('/content/drive/MyDrive/Lab1/fine-tuned-bert-environmental-sentiment')\n",
    "tokenizer = BertTokenizer.from_pretrained('/content/drive/MyDrive/Lab1/fine-tuned-bert-environmental-sentiment')"
   ]
  },
  {
   "cell_type": "code",
   "execution_count": 5,
   "metadata": {
    "colab": {
     "base_uri": "https://localhost:8080/"
    },
    "executionInfo": {
     "elapsed": 212,
     "status": "ok",
     "timestamp": 1732934459873,
     "user": {
      "displayName": "Shuping Wu",
      "userId": "16798090256759656802"
     },
     "user_tz": 360
    },
    "id": "4Lm2XUP98E-F",
    "outputId": "045b5ca2-5c5f-4d6b-e649-ae042ba3aad3"
   },
   "outputs": [
    {
     "data": {
      "text/plain": [
       "BertForSequenceClassification(\n",
       "  (bert): BertModel(\n",
       "    (embeddings): BertEmbeddings(\n",
       "      (word_embeddings): Embedding(21128, 768, padding_idx=0)\n",
       "      (position_embeddings): Embedding(512, 768)\n",
       "      (token_type_embeddings): Embedding(2, 768)\n",
       "      (LayerNorm): LayerNorm((768,), eps=1e-12, elementwise_affine=True)\n",
       "      (dropout): Dropout(p=0.1, inplace=False)\n",
       "    )\n",
       "    (encoder): BertEncoder(\n",
       "      (layer): ModuleList(\n",
       "        (0-11): 12 x BertLayer(\n",
       "          (attention): BertAttention(\n",
       "            (self): BertSdpaSelfAttention(\n",
       "              (query): Linear(in_features=768, out_features=768, bias=True)\n",
       "              (key): Linear(in_features=768, out_features=768, bias=True)\n",
       "              (value): Linear(in_features=768, out_features=768, bias=True)\n",
       "              (dropout): Dropout(p=0.1, inplace=False)\n",
       "            )\n",
       "            (output): BertSelfOutput(\n",
       "              (dense): Linear(in_features=768, out_features=768, bias=True)\n",
       "              (LayerNorm): LayerNorm((768,), eps=1e-12, elementwise_affine=True)\n",
       "              (dropout): Dropout(p=0.1, inplace=False)\n",
       "            )\n",
       "          )\n",
       "          (intermediate): BertIntermediate(\n",
       "            (dense): Linear(in_features=768, out_features=3072, bias=True)\n",
       "            (intermediate_act_fn): GELUActivation()\n",
       "          )\n",
       "          (output): BertOutput(\n",
       "            (dense): Linear(in_features=3072, out_features=768, bias=True)\n",
       "            (LayerNorm): LayerNorm((768,), eps=1e-12, elementwise_affine=True)\n",
       "            (dropout): Dropout(p=0.1, inplace=False)\n",
       "          )\n",
       "        )\n",
       "      )\n",
       "    )\n",
       "    (pooler): BertPooler(\n",
       "      (dense): Linear(in_features=768, out_features=768, bias=True)\n",
       "      (activation): Tanh()\n",
       "    )\n",
       "  )\n",
       "  (dropout): Dropout(p=0.1, inplace=False)\n",
       "  (classifier): Linear(in_features=768, out_features=3, bias=True)\n",
       ")"
      ]
     },
     "execution_count": 5,
     "metadata": {},
     "output_type": "execute_result"
    }
   ],
   "source": [
    "device = torch.device('cuda' if torch.cuda.is_available() else 'cpu')\n",
    "model.to(device)"
   ]
  },
  {
   "cell_type": "code",
   "execution_count": null,
   "metadata": {
    "executionInfo": {
     "elapsed": 4464,
     "status": "ok",
     "timestamp": 1732934914299,
     "user": {
      "displayName": "Shuping Wu",
      "userId": "16798090256759656802"
     },
     "user_tz": 360
    },
    "id": "MwW0X0d_8WoR"
   },
   "outputs": [],
   "source": [
    "def read_chinese_files(directory_path):\n",
    "    texts = []\n",
    "    filenames = []\n",
    "    for filename in os.listdir(directory_path):\n",
    "        if filename.endswith('.txt'):\n",
    "            file_path = os.path.join(directory_path, filename)\n",
    "            with open(file_path, 'r', encoding='utf-8') as file:\n",
    "                text = file.read()\n",
    "                texts.append(text)\n",
    "                filenames.append(filename)\n",
    "    return texts, filenames\n",
    "\n",
    "directory_path = './data/Analyze'\n",
    "texts, filenames = read_chinese_files(directory_path)"
   ]
  },
  {
   "cell_type": "code",
   "execution_count": null,
   "metadata": {
    "id": "JrpUmBYB-L9u"
   },
   "outputs": [],
   "source": [
    "def tokenize_with_jieba(text):\n",
    "    tokens = jieba.lcut(text)\n",
    "    return tokens"
   ]
  },
  {
   "cell_type": "code",
   "execution_count": 17,
   "metadata": {
    "executionInfo": {
     "elapsed": 133,
     "status": "ok",
     "timestamp": 1732935342669,
     "user": {
      "displayName": "Shuping Wu",
      "userId": "16798090256759656802"
     },
     "user_tz": 360
    },
    "id": "EUSgj0QX_jzt"
   },
   "outputs": [],
   "source": [
    "MAX_LEN = 128"
   ]
  },
  {
   "cell_type": "code",
   "execution_count": 18,
   "metadata": {
    "executionInfo": {
     "elapsed": 210,
     "status": "ok",
     "timestamp": 1732935344157,
     "user": {
      "displayName": "Shuping Wu",
      "userId": "16798090256759656802"
     },
     "user_tz": 360
    },
    "id": "eYhEfr8U-OU6"
   },
   "outputs": [],
   "source": [
    "def predict_weighted_score(text):\n",
    "    encoding = tokenizer.encode_plus(\n",
    "        text,\n",
    "        add_special_tokens=True,\n",
    "        max_length=MAX_LEN,\n",
    "        truncation=True,\n",
    "        padding='max_length',\n",
    "        return_attention_mask=True,\n",
    "        return_tensors='pt',\n",
    "    )\n",
    "\n",
    "    input_ids = encoding['input_ids'].to(device)\n",
    "    attention_mask = encoding['attention_mask'].to(device)\n",
    "\n",
    "    outputs = model(input_ids, attention_mask)\n",
    "    logits = outputs.logits\n",
    "\n",
    "    # Apply softmax to get probabilities\n",
    "    probabilities = F.softmax(logits, dim=1)\n",
    "\n",
    "    # Compute weighted sum\n",
    "    class_indices = torch.arange(3).to(device)  # [0, 1, 2]\n",
    "    score = torch.sum(probabilities * class_indices, dim=1).item()\n",
    "    return score"
   ]
  },
  {
   "cell_type": "code",
   "execution_count": 19,
   "metadata": {
    "executionInfo": {
     "elapsed": 9758,
     "status": "ok",
     "timestamp": 1732935356278,
     "user": {
      "displayName": "Shuping Wu",
      "userId": "16798090256759656802"
     },
     "user_tz": 360
    },
    "id": "hoGymEZv_cS0"
   },
   "outputs": [],
   "source": [
    "results = []\n",
    "\n",
    "for text, filename in zip(texts, filenames):\n",
    "    score = predict_weighted_score(text)\n",
    "    results.append({'filename': filename, 'score': score})"
   ]
  },
  {
   "cell_type": "code",
   "execution_count": 30,
   "metadata": {
    "executionInfo": {
     "elapsed": 188,
     "status": "ok",
     "timestamp": 1732936140501,
     "user": {
      "displayName": "Shuping Wu",
      "userId": "16798090256759656802"
     },
     "user_tz": 360
    },
    "id": "ygd_8peEBAi9"
   },
   "outputs": [],
   "source": [
    "results.sort(key=lambda x: int(x['filename'][:4]))"
   ]
  },
  {
   "cell_type": "code",
   "execution_count": 32,
   "metadata": {
    "colab": {
     "base_uri": "https://localhost:8080/"
    },
    "executionInfo": {
     "elapsed": 167,
     "status": "ok",
     "timestamp": 1732936159186,
     "user": {
      "displayName": "Shuping Wu",
      "userId": "16798090256759656802"
     },
     "user_tz": 360
    },
    "id": "g4UZYDIe_y7W",
    "outputId": "f087666f-47da-4654-8b0e-7ebdf7261162"
   },
   "outputs": [
    {
     "name": "stdout",
     "output_type": "stream",
     "text": [
      "File: 2012年中华人民共和国国务院政府工作报告.txt, Sentiment Score: 0.94\n",
      "File: 2013年中华人民共和国国务院政府工作报告.txt, Sentiment Score: 1.04\n",
      "File: 2014年中华人民共和国国务院政府工作报告.txt, Sentiment Score: 1.07\n",
      "File: 2015年中华人民共和国国务院政府工作报告.txt, Sentiment Score: 1.18\n",
      "File: 2016年中华人民共和国国务院政府工作报告.txt, Sentiment Score: 1.23\n",
      "File: 2017年中华人民共和国国务院政府工作报告.txt, Sentiment Score: 1.22\n",
      "File: 2018年中华人民共和国国务院政府工作报告.txt, Sentiment Score: 1.28\n",
      "File: 2019年中华人民共和国国务院政府工作报告.txt, Sentiment Score: 1.29\n",
      "File: 2020年中华人民共和国国务院政府工作报告.txt, Sentiment Score: 1.30\n",
      "File: 2021年中华人民共和国国务院政府工作报告.txt, Sentiment Score: 1.28\n",
      "File: 2022年中华人民共和国国务院政府工作报告.txt, Sentiment Score: 1.22\n"
     ]
    }
   ],
   "source": [
    "for result in results:\n",
    "    print(f\"File: {result['filename']}, Sentiment Score: {result['score']:.2f}\")"
   ]
  },
  {
   "cell_type": "code",
   "execution_count": null,
   "metadata": {
    "executionInfo": {
     "elapsed": 150,
     "status": "ok",
     "timestamp": 1732936246699,
     "user": {
      "displayName": "Shuping Wu",
      "userId": "16798090256759656802"
     },
     "user_tz": 360
    },
    "id": "Gpc7edMPCynx"
   },
   "outputs": [],
   "source": [
    "# Convert results to a DataFrame\n",
    "df_results = pd.DataFrame(results)\n",
    "\n",
    "# Save to CSV\n",
    "df_results.to_csv('./data/sentiment_analysis_results.csv', index=False, encoding='utf-8-sig')"
   ]
  }
 ],
 "metadata": {
  "colab": {
   "authorship_tag": "ABX9TyPNpHlpgseg1owYsPK0WKgL",
   "provenance": []
  },
  "kernelspec": {
   "display_name": "Python 3",
   "name": "python3"
  },
  "language_info": {
   "name": "python"
  }
 },
 "nbformat": 4,
 "nbformat_minor": 0
}
